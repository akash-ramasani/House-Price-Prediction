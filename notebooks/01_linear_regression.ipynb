{
 "cells": [
  {
   "cell_type": "code",
   "execution_count": 1,
   "id": "99636011-2bb8-48c4-b72f-5f15eb3b6c90",
   "metadata": {},
   "outputs": [],
   "source": [
    "import sys"
   ]
  },
  {
   "cell_type": "code",
   "execution_count": 2,
   "id": "542d0c32-6879-4b2e-b935-01f159d6d1ca",
   "metadata": {},
   "outputs": [
    {
     "name": "stdout",
     "output_type": "stream",
     "text": [
      "3.13.7 (v3.13.7:bcee1c32211, Aug 14 2025, 19:10:51) [Clang 16.0.0 (clang-1600.0.26.6)]\n"
     ]
    }
   ],
   "source": [
    "print(sys.version)"
   ]
  },
  {
   "cell_type": "code",
   "execution_count": 3,
   "id": "d220756d-e1d6-416e-be97-80bd1929ff01",
   "metadata": {},
   "outputs": [],
   "source": [
    "import pip"
   ]
  },
  {
   "cell_type": "code",
   "execution_count": 4,
   "id": "22be38fd-c436-49cf-b761-eaa137e697d8",
   "metadata": {},
   "outputs": [
    {
     "name": "stdout",
     "output_type": "stream",
     "text": [
      "25.2\n"
     ]
    }
   ],
   "source": [
    "print(pip.__version__)"
   ]
  },
  {
   "cell_type": "code",
   "execution_count": 5,
   "id": "dd557c2c-080a-4c34-88a2-fde51eb78b98",
   "metadata": {},
   "outputs": [],
   "source": [
    "import pandas as pd"
   ]
  },
  {
   "cell_type": "code",
   "execution_count": 6,
   "id": "0bcd85b8-c355-4014-a244-efe2b10d8e15",
   "metadata": {},
   "outputs": [],
   "source": [
    "from pathlib import Path"
   ]
  },
  {
   "cell_type": "code",
   "execution_count": 7,
   "id": "df2cd866-c806-4bca-a245-0297c9319002",
   "metadata": {},
   "outputs": [],
   "source": [
    "DATA_DIR = Path(\"../data/\")"
   ]
  },
  {
   "cell_type": "code",
   "execution_count": 8,
   "id": "22185e45-6cc4-42df-a5de-db4721414198",
   "metadata": {},
   "outputs": [
    {
     "name": "stdout",
     "output_type": "stream",
     "text": [
      "True\n"
     ]
    }
   ],
   "source": [
    "print(DATA_DIR.exists()) #True if the folder exists, False if not"
   ]
  },
  {
   "cell_type": "code",
   "execution_count": 9,
   "id": "94decdc6-43d5-49ef-a544-3b807fa60346",
   "metadata": {},
   "outputs": [
    {
     "name": "stdout",
     "output_type": "stream",
     "text": [
      "True\n"
     ]
    }
   ],
   "source": [
    "print(DATA_DIR.is_dir()) #True only if it's a directory"
   ]
  },
  {
   "cell_type": "code",
   "execution_count": 10,
   "id": "5d5423b6-0fb3-46f3-a0a7-df8d95d56fd0",
   "metadata": {},
   "outputs": [
    {
     "name": "stdout",
     "output_type": "stream",
     "text": [
      "[PosixPath('../data/test.csv'), PosixPath('../data/train.csv')]\n"
     ]
    }
   ],
   "source": [
    "print(list(DATA_DIR.iterdir()))"
   ]
  },
  {
   "cell_type": "code",
   "execution_count": 11,
   "id": "2a75f4ef-b6e8-4113-a544-472b9916911f",
   "metadata": {},
   "outputs": [],
   "source": [
    "train_path = DATA_DIR/\"train.csv\""
   ]
  },
  {
   "cell_type": "code",
   "execution_count": 12,
   "id": "26e9b9b9-fef0-4d5f-a985-dbf97681e22a",
   "metadata": {},
   "outputs": [
    {
     "name": "stdout",
     "output_type": "stream",
     "text": [
      "True\n"
     ]
    }
   ],
   "source": [
    "print(train_path.exists()) #True if train.csv exists"
   ]
  },
  {
   "cell_type": "code",
   "execution_count": 13,
   "id": "89ee147c-bbe5-4380-a561-0ec9bdc7a558",
   "metadata": {},
   "outputs": [],
   "source": [
    "test_path = DATA_DIR/\"test.csv\""
   ]
  },
  {
   "cell_type": "code",
   "execution_count": 14,
   "id": "e5f35923-da76-4923-b23f-d90a8a6362c6",
   "metadata": {},
   "outputs": [
    {
     "name": "stdout",
     "output_type": "stream",
     "text": [
      "True\n"
     ]
    }
   ],
   "source": [
    "print(test_path.exists()) #True if test.csv exists"
   ]
  },
  {
   "cell_type": "code",
   "execution_count": 15,
   "id": "2b2e21e0-6100-4313-80b0-b70705aa1e83",
   "metadata": {},
   "outputs": [],
   "source": [
    "train =  pd.read_csv(train_path)"
   ]
  },
  {
   "cell_type": "code",
   "execution_count": 16,
   "id": "fe44be76-3dd9-4b06-a758-20cd223644a5",
   "metadata": {},
   "outputs": [],
   "source": [
    "test = pd.read_csv(test_path)"
   ]
  },
  {
   "cell_type": "code",
   "execution_count": 17,
   "id": "a488d5c6-3ccf-415f-b7d2-53151351d8d3",
   "metadata": {},
   "outputs": [
    {
     "name": "stdout",
     "output_type": "stream",
     "text": [
      "train.csv Shape :  (1460, 81)\n"
     ]
    }
   ],
   "source": [
    "print(\"train.csv Shape : \", train.shape) #.shape gives the dimensions of a DataFrame as a Tuple"
   ]
  },
  {
   "cell_type": "code",
   "execution_count": 18,
   "id": "ae685cae-0bc5-4b5f-93b4-d5d615b6f464",
   "metadata": {},
   "outputs": [
    {
     "name": "stdout",
     "output_type": "stream",
     "text": [
      "test.csv Shape :  (1459, 80)\n"
     ]
    }
   ],
   "source": [
    "print(\"test.csv Shape : \", test.shape)"
   ]
  },
  {
   "cell_type": "code",
   "execution_count": 19,
   "id": "78b24703-163a-496b-85b9-3748b4c67d45",
   "metadata": {},
   "outputs": [
    {
     "name": "stdout",
     "output_type": "stream",
     "text": [
      "   Id  MSSubClass MSZoning  LotFrontage  LotArea Street Alley LotShape  \\\n",
      "0   1          60       RL         65.0     8450   Pave   NaN      Reg   \n",
      "1   2          20       RL         80.0     9600   Pave   NaN      Reg   \n",
      "2   3          60       RL         68.0    11250   Pave   NaN      IR1   \n",
      "3   4          70       RL         60.0     9550   Pave   NaN      IR1   \n",
      "4   5          60       RL         84.0    14260   Pave   NaN      IR1   \n",
      "\n",
      "  LandContour Utilities  ... PoolArea PoolQC Fence MiscFeature MiscVal MoSold  \\\n",
      "0         Lvl    AllPub  ...        0    NaN   NaN         NaN       0      2   \n",
      "1         Lvl    AllPub  ...        0    NaN   NaN         NaN       0      5   \n",
      "2         Lvl    AllPub  ...        0    NaN   NaN         NaN       0      9   \n",
      "3         Lvl    AllPub  ...        0    NaN   NaN         NaN       0      2   \n",
      "4         Lvl    AllPub  ...        0    NaN   NaN         NaN       0     12   \n",
      "\n",
      "  YrSold  SaleType  SaleCondition  SalePrice  \n",
      "0   2008        WD         Normal     208500  \n",
      "1   2007        WD         Normal     181500  \n",
      "2   2008        WD         Normal     223500  \n",
      "3   2006        WD        Abnorml     140000  \n",
      "4   2008        WD         Normal     250000  \n",
      "\n",
      "[5 rows x 81 columns]\n"
     ]
    }
   ],
   "source": [
    "print(train.head(5)) #.head method returns the first n rows of the object."
   ]
  },
  {
   "cell_type": "code",
   "execution_count": 20,
   "id": "bdbe5073-0b36-4020-9a9e-7c57126af4c9",
   "metadata": {},
   "outputs": [
    {
     "name": "stdout",
     "output_type": "stream",
     "text": [
      "     Id  MSSubClass MSZoning  LotFrontage  LotArea Street Alley LotShape  \\\n",
      "0  1461          20       RH         80.0    11622   Pave   NaN      Reg   \n",
      "1  1462          20       RL         81.0    14267   Pave   NaN      IR1   \n",
      "2  1463          60       RL         74.0    13830   Pave   NaN      IR1   \n",
      "3  1464          60       RL         78.0     9978   Pave   NaN      IR1   \n",
      "4  1465         120       RL         43.0     5005   Pave   NaN      IR1   \n",
      "\n",
      "  LandContour Utilities  ... ScreenPorch PoolArea PoolQC  Fence MiscFeature  \\\n",
      "0         Lvl    AllPub  ...         120        0    NaN  MnPrv         NaN   \n",
      "1         Lvl    AllPub  ...           0        0    NaN    NaN        Gar2   \n",
      "2         Lvl    AllPub  ...           0        0    NaN  MnPrv         NaN   \n",
      "3         Lvl    AllPub  ...           0        0    NaN    NaN         NaN   \n",
      "4         HLS    AllPub  ...         144        0    NaN    NaN         NaN   \n",
      "\n",
      "  MiscVal MoSold  YrSold  SaleType  SaleCondition  \n",
      "0       0      6    2010        WD         Normal  \n",
      "1   12500      6    2010        WD         Normal  \n",
      "2       0      3    2010        WD         Normal  \n",
      "3       0      6    2010        WD         Normal  \n",
      "4       0      1    2010        WD         Normal  \n",
      "\n",
      "[5 rows x 80 columns]\n"
     ]
    }
   ],
   "source": [
    "print(test.head(5))"
   ]
  }
 ],
 "metadata": {
  "kernelspec": {
   "display_name": "Python 3 (ipykernel)",
   "language": "python",
   "name": "python3"
  },
  "language_info": {
   "codemirror_mode": {
    "name": "ipython",
    "version": 3
   },
   "file_extension": ".py",
   "mimetype": "text/x-python",
   "name": "python",
   "nbconvert_exporter": "python",
   "pygments_lexer": "ipython3",
   "version": "3.13.7"
  }
 },
 "nbformat": 4,
 "nbformat_minor": 5
}
