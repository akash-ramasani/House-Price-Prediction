{
 "cells": [
  {
   "cell_type": "code",
   "execution_count": 1,
   "id": "99636011-2bb8-48c4-b72f-5f15eb3b6c90",
   "metadata": {},
   "outputs": [],
   "source": [
    "import sys"
   ]
  },
  {
   "cell_type": "code",
   "execution_count": 2,
   "id": "542d0c32-6879-4b2e-b935-01f159d6d1ca",
   "metadata": {},
   "outputs": [
    {
     "name": "stdout",
     "output_type": "stream",
     "text": [
      "3.13.7 (v3.13.7:bcee1c32211, Aug 14 2025, 19:10:51) [Clang 16.0.0 (clang-1600.0.26.6)]\n"
     ]
    }
   ],
   "source": [
    "print(sys.version)"
   ]
  },
  {
   "cell_type": "code",
   "execution_count": 3,
   "id": "d220756d-e1d6-416e-be97-80bd1929ff01",
   "metadata": {},
   "outputs": [],
   "source": [
    "import pip"
   ]
  },
  {
   "cell_type": "code",
   "execution_count": 4,
   "id": "22be38fd-c436-49cf-b761-eaa137e697d8",
   "metadata": {},
   "outputs": [
    {
     "name": "stdout",
     "output_type": "stream",
     "text": [
      "25.2\n"
     ]
    }
   ],
   "source": [
    "print(pip.__version__)"
   ]
  },
  {
   "cell_type": "code",
   "execution_count": 5,
   "id": "dd557c2c-080a-4c34-88a2-fde51eb78b98",
   "metadata": {},
   "outputs": [],
   "source": [
    "import pandas as pd"
   ]
  },
  {
   "cell_type": "code",
   "execution_count": 6,
   "id": "0bcd85b8-c355-4014-a244-efe2b10d8e15",
   "metadata": {},
   "outputs": [],
   "source": [
    "from pathlib import Path"
   ]
  },
  {
   "cell_type": "code",
   "execution_count": 7,
   "id": "df2cd866-c806-4bca-a245-0297c9319002",
   "metadata": {},
   "outputs": [],
   "source": [
    "DATA_DIR = Path(\"../data/\")"
   ]
  },
  {
   "cell_type": "code",
   "execution_count": 8,
   "id": "22185e45-6cc4-42df-a5de-db4721414198",
   "metadata": {},
   "outputs": [
    {
     "name": "stdout",
     "output_type": "stream",
     "text": [
      "True\n"
     ]
    }
   ],
   "source": [
    "print(DATA_DIR.exists()) #True if the folder exists, False if not"
   ]
  },
  {
   "cell_type": "code",
   "execution_count": 9,
   "id": "94decdc6-43d5-49ef-a544-3b807fa60346",
   "metadata": {},
   "outputs": [
    {
     "name": "stdout",
     "output_type": "stream",
     "text": [
      "True\n"
     ]
    }
   ],
   "source": [
    "print(DATA_DIR.is_dir()) #True only if it's a directory"
   ]
  },
  {
   "cell_type": "code",
   "execution_count": 10,
   "id": "5d5423b6-0fb3-46f3-a0a7-df8d95d56fd0",
   "metadata": {},
   "outputs": [
    {
     "name": "stdout",
     "output_type": "stream",
     "text": [
      "[PosixPath('../data/test.csv'), PosixPath('../data/train.csv')]\n"
     ]
    }
   ],
   "source": [
    "print(list(DATA_DIR.iterdir()))"
   ]
  },
  {
   "cell_type": "code",
   "execution_count": 11,
   "id": "2a75f4ef-b6e8-4113-a544-472b9916911f",
   "metadata": {},
   "outputs": [],
   "source": [
    "train_path = DATA_DIR/\"train.csv\""
   ]
  },
  {
   "cell_type": "code",
   "execution_count": 12,
   "id": "26e9b9b9-fef0-4d5f-a985-dbf97681e22a",
   "metadata": {},
   "outputs": [
    {
     "name": "stdout",
     "output_type": "stream",
     "text": [
      "True\n"
     ]
    }
   ],
   "source": [
    "print(train_path.exists()) #True if train.csv exists"
   ]
  },
  {
   "cell_type": "code",
   "execution_count": 15,
   "id": "89ee147c-bbe5-4380-a561-0ec9bdc7a558",
   "metadata": {},
   "outputs": [],
   "source": [
    "test_path = DATA_DIR/\"test.csv\""
   ]
  },
  {
   "cell_type": "code",
   "execution_count": 16,
   "id": "e5f35923-da76-4923-b23f-d90a8a6362c6",
   "metadata": {},
   "outputs": [
    {
     "name": "stdout",
     "output_type": "stream",
     "text": [
      "True\n"
     ]
    }
   ],
   "source": [
    "print(test_path.exists()) #True if test.csv exists"
   ]
  }
 ],
 "metadata": {
  "kernelspec": {
   "display_name": "Python 3 (ipykernel)",
   "language": "python",
   "name": "python3"
  },
  "language_info": {
   "codemirror_mode": {
    "name": "ipython",
    "version": 3
   },
   "file_extension": ".py",
   "mimetype": "text/x-python",
   "name": "python",
   "nbconvert_exporter": "python",
   "pygments_lexer": "ipython3",
   "version": "3.13.7"
  }
 },
 "nbformat": 4,
 "nbformat_minor": 5
}
